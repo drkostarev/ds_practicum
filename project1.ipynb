{
 "cells": [
  {
   "cell_type": "markdown",
   "metadata": {
    "toc": true
   },
   "source": [
    "<h1>Содержание<span class=\"tocSkip\"></span></h1>\n",
    "<div class=\"toc\"><ul class=\"toc-item\"><li><span><a href=\"#Подготовка-данных\" data-toc-modified-id=\"Подготовка-данных-1\"><span class=\"toc-item-num\">1&nbsp;&nbsp;</span>Подготовка данных</a></span></li><li><span><a href=\"#Исследование-задачи\" data-toc-modified-id=\"Исследование-задачи-2\"><span class=\"toc-item-num\">2&nbsp;&nbsp;</span>Исследование задачи</a></span></li><li><span><a href=\"#Борьба-с-дисбалансом\" data-toc-modified-id=\"Борьба-с-дисбалансом-3\"><span class=\"toc-item-num\">3&nbsp;&nbsp;</span>Борьба с дисбалансом</a></span></li><li><span><a href=\"#Тестирование-модели\" data-toc-modified-id=\"Тестирование-модели-4\"><span class=\"toc-item-num\">4&nbsp;&nbsp;</span>Тестирование модели</a></span></li></ul></div>"
   ]
  },
  {
   "cell_type": "markdown",
   "metadata": {},
   "source": [
    "# Отток клиентов"
   ]
  },
  {
   "cell_type": "markdown",
   "metadata": {},
   "source": [
    "Из «Бета-Банка» стали уходить клиенты. Каждый месяц. Немного, но заметно. Банковские маркетологи посчитали: сохранять текущих клиентов дешевле, чем привлекать новых.\n",
    "\n",
    "Нужно спрогнозировать, уйдёт клиент из банка в ближайшее время или нет. Вам предоставлены исторические данные о поведении клиентов и расторжении договоров с банком. \n",
    "\n",
    "Постройте модель с предельно большим значением *F1*-меры. Чтобы сдать проект успешно, нужно довести метрику до 0.59. Проверьте *F1*-меру на тестовой выборке самостоятельно.\n",
    "\n",
    "Дополнительно измеряйте *AUC-ROC*, сравнивайте её значение с *F1*-мерой.\n",
    "\n",
    "Источник данных: [https://www.kaggle.com/barelydedicated/bank-customer-churn-modeling](https://www.kaggle.com/barelydedicated/bank-customer-churn-modeling)"
   ]
  },
  {
   "cell_type": "markdown",
   "metadata": {},
   "source": [
    "## Подготовка данных"
   ]
  },
  {
   "cell_type": "markdown",
   "metadata": {},
   "source": [
    "Импортируем необходимые библиотеки, затем считаем датасет в переменную data и изучим данные:"
   ]
  },
  {
   "cell_type": "code",
   "execution_count": 1,
   "metadata": {},
   "outputs": [],
   "source": [
    "import pandas as pd\n",
    "import numpy as np\n",
    "from sklearn.model_selection import train_test_split\n",
    "from sklearn.linear_model import LinearRegression, LogisticRegression\n",
    "from sklearn.tree import DecisionTreeClassifier\n",
    "from sklearn.ensemble import RandomForestClassifier\n",
    "from sklearn.metrics import f1_score, roc_auc_score, precision_score, recall_score\n",
    "from sklearn.preprocessing import OrdinalEncoder, StandardScaler\n",
    "from sklearn.utils import shuffle"
   ]
  },
  {
   "cell_type": "code",
   "execution_count": 2,
   "metadata": {
    "scrolled": false
   },
   "outputs": [
    {
     "data": {
      "text/html": [
       "<div>\n",
       "<style scoped>\n",
       "    .dataframe tbody tr th:only-of-type {\n",
       "        vertical-align: middle;\n",
       "    }\n",
       "\n",
       "    .dataframe tbody tr th {\n",
       "        vertical-align: top;\n",
       "    }\n",
       "\n",
       "    .dataframe thead th {\n",
       "        text-align: right;\n",
       "    }\n",
       "</style>\n",
       "<table border=\"1\" class=\"dataframe\">\n",
       "  <thead>\n",
       "    <tr style=\"text-align: right;\">\n",
       "      <th></th>\n",
       "      <th>RowNumber</th>\n",
       "      <th>CustomerId</th>\n",
       "      <th>Surname</th>\n",
       "      <th>CreditScore</th>\n",
       "      <th>Geography</th>\n",
       "      <th>Gender</th>\n",
       "      <th>Age</th>\n",
       "      <th>Tenure</th>\n",
       "      <th>Balance</th>\n",
       "      <th>NumOfProducts</th>\n",
       "      <th>HasCrCard</th>\n",
       "      <th>IsActiveMember</th>\n",
       "      <th>EstimatedSalary</th>\n",
       "      <th>Exited</th>\n",
       "    </tr>\n",
       "  </thead>\n",
       "  <tbody>\n",
       "    <tr>\n",
       "      <th>0</th>\n",
       "      <td>1</td>\n",
       "      <td>15634602</td>\n",
       "      <td>Hargrave</td>\n",
       "      <td>619</td>\n",
       "      <td>France</td>\n",
       "      <td>Female</td>\n",
       "      <td>42</td>\n",
       "      <td>2.0</td>\n",
       "      <td>0.00</td>\n",
       "      <td>1</td>\n",
       "      <td>1</td>\n",
       "      <td>1</td>\n",
       "      <td>101348.88</td>\n",
       "      <td>1</td>\n",
       "    </tr>\n",
       "    <tr>\n",
       "      <th>1</th>\n",
       "      <td>2</td>\n",
       "      <td>15647311</td>\n",
       "      <td>Hill</td>\n",
       "      <td>608</td>\n",
       "      <td>Spain</td>\n",
       "      <td>Female</td>\n",
       "      <td>41</td>\n",
       "      <td>1.0</td>\n",
       "      <td>83807.86</td>\n",
       "      <td>1</td>\n",
       "      <td>0</td>\n",
       "      <td>1</td>\n",
       "      <td>112542.58</td>\n",
       "      <td>0</td>\n",
       "    </tr>\n",
       "    <tr>\n",
       "      <th>2</th>\n",
       "      <td>3</td>\n",
       "      <td>15619304</td>\n",
       "      <td>Onio</td>\n",
       "      <td>502</td>\n",
       "      <td>France</td>\n",
       "      <td>Female</td>\n",
       "      <td>42</td>\n",
       "      <td>8.0</td>\n",
       "      <td>159660.80</td>\n",
       "      <td>3</td>\n",
       "      <td>1</td>\n",
       "      <td>0</td>\n",
       "      <td>113931.57</td>\n",
       "      <td>1</td>\n",
       "    </tr>\n",
       "    <tr>\n",
       "      <th>3</th>\n",
       "      <td>4</td>\n",
       "      <td>15701354</td>\n",
       "      <td>Boni</td>\n",
       "      <td>699</td>\n",
       "      <td>France</td>\n",
       "      <td>Female</td>\n",
       "      <td>39</td>\n",
       "      <td>1.0</td>\n",
       "      <td>0.00</td>\n",
       "      <td>2</td>\n",
       "      <td>0</td>\n",
       "      <td>0</td>\n",
       "      <td>93826.63</td>\n",
       "      <td>0</td>\n",
       "    </tr>\n",
       "    <tr>\n",
       "      <th>4</th>\n",
       "      <td>5</td>\n",
       "      <td>15737888</td>\n",
       "      <td>Mitchell</td>\n",
       "      <td>850</td>\n",
       "      <td>Spain</td>\n",
       "      <td>Female</td>\n",
       "      <td>43</td>\n",
       "      <td>2.0</td>\n",
       "      <td>125510.82</td>\n",
       "      <td>1</td>\n",
       "      <td>1</td>\n",
       "      <td>1</td>\n",
       "      <td>79084.10</td>\n",
       "      <td>0</td>\n",
       "    </tr>\n",
       "    <tr>\n",
       "      <th>5</th>\n",
       "      <td>6</td>\n",
       "      <td>15574012</td>\n",
       "      <td>Chu</td>\n",
       "      <td>645</td>\n",
       "      <td>Spain</td>\n",
       "      <td>Male</td>\n",
       "      <td>44</td>\n",
       "      <td>8.0</td>\n",
       "      <td>113755.78</td>\n",
       "      <td>2</td>\n",
       "      <td>1</td>\n",
       "      <td>0</td>\n",
       "      <td>149756.71</td>\n",
       "      <td>1</td>\n",
       "    </tr>\n",
       "    <tr>\n",
       "      <th>6</th>\n",
       "      <td>7</td>\n",
       "      <td>15592531</td>\n",
       "      <td>Bartlett</td>\n",
       "      <td>822</td>\n",
       "      <td>France</td>\n",
       "      <td>Male</td>\n",
       "      <td>50</td>\n",
       "      <td>7.0</td>\n",
       "      <td>0.00</td>\n",
       "      <td>2</td>\n",
       "      <td>1</td>\n",
       "      <td>1</td>\n",
       "      <td>10062.80</td>\n",
       "      <td>0</td>\n",
       "    </tr>\n",
       "    <tr>\n",
       "      <th>7</th>\n",
       "      <td>8</td>\n",
       "      <td>15656148</td>\n",
       "      <td>Obinna</td>\n",
       "      <td>376</td>\n",
       "      <td>Germany</td>\n",
       "      <td>Female</td>\n",
       "      <td>29</td>\n",
       "      <td>4.0</td>\n",
       "      <td>115046.74</td>\n",
       "      <td>4</td>\n",
       "      <td>1</td>\n",
       "      <td>0</td>\n",
       "      <td>119346.88</td>\n",
       "      <td>1</td>\n",
       "    </tr>\n",
       "    <tr>\n",
       "      <th>8</th>\n",
       "      <td>9</td>\n",
       "      <td>15792365</td>\n",
       "      <td>He</td>\n",
       "      <td>501</td>\n",
       "      <td>France</td>\n",
       "      <td>Male</td>\n",
       "      <td>44</td>\n",
       "      <td>4.0</td>\n",
       "      <td>142051.07</td>\n",
       "      <td>2</td>\n",
       "      <td>0</td>\n",
       "      <td>1</td>\n",
       "      <td>74940.50</td>\n",
       "      <td>0</td>\n",
       "    </tr>\n",
       "    <tr>\n",
       "      <th>9</th>\n",
       "      <td>10</td>\n",
       "      <td>15592389</td>\n",
       "      <td>H?</td>\n",
       "      <td>684</td>\n",
       "      <td>France</td>\n",
       "      <td>Male</td>\n",
       "      <td>27</td>\n",
       "      <td>2.0</td>\n",
       "      <td>134603.88</td>\n",
       "      <td>1</td>\n",
       "      <td>1</td>\n",
       "      <td>1</td>\n",
       "      <td>71725.73</td>\n",
       "      <td>0</td>\n",
       "    </tr>\n",
       "  </tbody>\n",
       "</table>\n",
       "</div>"
      ],
      "text/plain": [
       "   RowNumber  CustomerId   Surname  CreditScore Geography  Gender  Age  \\\n",
       "0          1    15634602  Hargrave          619    France  Female   42   \n",
       "1          2    15647311      Hill          608     Spain  Female   41   \n",
       "2          3    15619304      Onio          502    France  Female   42   \n",
       "3          4    15701354      Boni          699    France  Female   39   \n",
       "4          5    15737888  Mitchell          850     Spain  Female   43   \n",
       "5          6    15574012       Chu          645     Spain    Male   44   \n",
       "6          7    15592531  Bartlett          822    France    Male   50   \n",
       "7          8    15656148    Obinna          376   Germany  Female   29   \n",
       "8          9    15792365        He          501    France    Male   44   \n",
       "9         10    15592389        H?          684    France    Male   27   \n",
       "\n",
       "   Tenure    Balance  NumOfProducts  HasCrCard  IsActiveMember  \\\n",
       "0     2.0       0.00              1          1               1   \n",
       "1     1.0   83807.86              1          0               1   \n",
       "2     8.0  159660.80              3          1               0   \n",
       "3     1.0       0.00              2          0               0   \n",
       "4     2.0  125510.82              1          1               1   \n",
       "5     8.0  113755.78              2          1               0   \n",
       "6     7.0       0.00              2          1               1   \n",
       "7     4.0  115046.74              4          1               0   \n",
       "8     4.0  142051.07              2          0               1   \n",
       "9     2.0  134603.88              1          1               1   \n",
       "\n",
       "   EstimatedSalary  Exited  \n",
       "0        101348.88       1  \n",
       "1        112542.58       0  \n",
       "2        113931.57       1  \n",
       "3         93826.63       0  \n",
       "4         79084.10       0  \n",
       "5        149756.71       1  \n",
       "6         10062.80       0  \n",
       "7        119346.88       1  \n",
       "8         74940.50       0  \n",
       "9         71725.73       0  "
      ]
     },
     "metadata": {},
     "output_type": "display_data"
    },
    {
     "name": "stdout",
     "output_type": "stream",
     "text": [
      "<class 'pandas.core.frame.DataFrame'>\n",
      "RangeIndex: 10000 entries, 0 to 9999\n",
      "Data columns (total 14 columns):\n",
      " #   Column           Non-Null Count  Dtype  \n",
      "---  ------           --------------  -----  \n",
      " 0   RowNumber        10000 non-null  int64  \n",
      " 1   CustomerId       10000 non-null  int64  \n",
      " 2   Surname          10000 non-null  object \n",
      " 3   CreditScore      10000 non-null  int64  \n",
      " 4   Geography        10000 non-null  object \n",
      " 5   Gender           10000 non-null  object \n",
      " 6   Age              10000 non-null  int64  \n",
      " 7   Tenure           9091 non-null   float64\n",
      " 8   Balance          10000 non-null  float64\n",
      " 9   NumOfProducts    10000 non-null  int64  \n",
      " 10  HasCrCard        10000 non-null  int64  \n",
      " 11  IsActiveMember   10000 non-null  int64  \n",
      " 12  EstimatedSalary  10000 non-null  float64\n",
      " 13  Exited           10000 non-null  int64  \n",
      "dtypes: float64(3), int64(8), object(3)\n",
      "memory usage: 1.1+ MB\n"
     ]
    },
    {
     "data": {
      "text/plain": [
       "None"
      ]
     },
     "metadata": {},
     "output_type": "display_data"
    }
   ],
   "source": [
    "data = pd.read_csv('/datasets/Churn.csv')\n",
    "display(data.head(10))\n",
    "display(data.info())"
   ]
  },
  {
   "cell_type": "markdown",
   "metadata": {},
   "source": [
    "Поле Tenure содержит пропуски, проверим количество NaN в этом столбце и заполним пропуски нулями:"
   ]
  },
  {
   "cell_type": "code",
   "execution_count": 3,
   "metadata": {},
   "outputs": [
    {
     "data": {
      "text/plain": [
       "909"
      ]
     },
     "metadata": {},
     "output_type": "display_data"
    }
   ],
   "source": [
    "display(data['Tenure'].isna().sum())\n",
    "data['Tenure'] = data['Tenure'].fillna(0)"
   ]
  },
  {
   "cell_type": "markdown",
   "metadata": {},
   "source": [
    "Первые три столбца не должны использоваться для обучения модели, поэтому их мы исключим из датасета:"
   ]
  },
  {
   "cell_type": "code",
   "execution_count": 4,
   "metadata": {
    "scrolled": false
   },
   "outputs": [
    {
     "data": {
      "text/html": [
       "<div>\n",
       "<style scoped>\n",
       "    .dataframe tbody tr th:only-of-type {\n",
       "        vertical-align: middle;\n",
       "    }\n",
       "\n",
       "    .dataframe tbody tr th {\n",
       "        vertical-align: top;\n",
       "    }\n",
       "\n",
       "    .dataframe thead th {\n",
       "        text-align: right;\n",
       "    }\n",
       "</style>\n",
       "<table border=\"1\" class=\"dataframe\">\n",
       "  <thead>\n",
       "    <tr style=\"text-align: right;\">\n",
       "      <th></th>\n",
       "      <th>CreditScore</th>\n",
       "      <th>Geography</th>\n",
       "      <th>Gender</th>\n",
       "      <th>Age</th>\n",
       "      <th>Tenure</th>\n",
       "      <th>Balance</th>\n",
       "      <th>NumOfProducts</th>\n",
       "      <th>HasCrCard</th>\n",
       "      <th>IsActiveMember</th>\n",
       "      <th>EstimatedSalary</th>\n",
       "      <th>Exited</th>\n",
       "    </tr>\n",
       "  </thead>\n",
       "  <tbody>\n",
       "    <tr>\n",
       "      <th>0</th>\n",
       "      <td>619</td>\n",
       "      <td>France</td>\n",
       "      <td>Female</td>\n",
       "      <td>42</td>\n",
       "      <td>2.0</td>\n",
       "      <td>0.00</td>\n",
       "      <td>1</td>\n",
       "      <td>1</td>\n",
       "      <td>1</td>\n",
       "      <td>101348.88</td>\n",
       "      <td>1</td>\n",
       "    </tr>\n",
       "    <tr>\n",
       "      <th>1</th>\n",
       "      <td>608</td>\n",
       "      <td>Spain</td>\n",
       "      <td>Female</td>\n",
       "      <td>41</td>\n",
       "      <td>1.0</td>\n",
       "      <td>83807.86</td>\n",
       "      <td>1</td>\n",
       "      <td>0</td>\n",
       "      <td>1</td>\n",
       "      <td>112542.58</td>\n",
       "      <td>0</td>\n",
       "    </tr>\n",
       "    <tr>\n",
       "      <th>2</th>\n",
       "      <td>502</td>\n",
       "      <td>France</td>\n",
       "      <td>Female</td>\n",
       "      <td>42</td>\n",
       "      <td>8.0</td>\n",
       "      <td>159660.80</td>\n",
       "      <td>3</td>\n",
       "      <td>1</td>\n",
       "      <td>0</td>\n",
       "      <td>113931.57</td>\n",
       "      <td>1</td>\n",
       "    </tr>\n",
       "    <tr>\n",
       "      <th>3</th>\n",
       "      <td>699</td>\n",
       "      <td>France</td>\n",
       "      <td>Female</td>\n",
       "      <td>39</td>\n",
       "      <td>1.0</td>\n",
       "      <td>0.00</td>\n",
       "      <td>2</td>\n",
       "      <td>0</td>\n",
       "      <td>0</td>\n",
       "      <td>93826.63</td>\n",
       "      <td>0</td>\n",
       "    </tr>\n",
       "    <tr>\n",
       "      <th>4</th>\n",
       "      <td>850</td>\n",
       "      <td>Spain</td>\n",
       "      <td>Female</td>\n",
       "      <td>43</td>\n",
       "      <td>2.0</td>\n",
       "      <td>125510.82</td>\n",
       "      <td>1</td>\n",
       "      <td>1</td>\n",
       "      <td>1</td>\n",
       "      <td>79084.10</td>\n",
       "      <td>0</td>\n",
       "    </tr>\n",
       "    <tr>\n",
       "      <th>5</th>\n",
       "      <td>645</td>\n",
       "      <td>Spain</td>\n",
       "      <td>Male</td>\n",
       "      <td>44</td>\n",
       "      <td>8.0</td>\n",
       "      <td>113755.78</td>\n",
       "      <td>2</td>\n",
       "      <td>1</td>\n",
       "      <td>0</td>\n",
       "      <td>149756.71</td>\n",
       "      <td>1</td>\n",
       "    </tr>\n",
       "    <tr>\n",
       "      <th>6</th>\n",
       "      <td>822</td>\n",
       "      <td>France</td>\n",
       "      <td>Male</td>\n",
       "      <td>50</td>\n",
       "      <td>7.0</td>\n",
       "      <td>0.00</td>\n",
       "      <td>2</td>\n",
       "      <td>1</td>\n",
       "      <td>1</td>\n",
       "      <td>10062.80</td>\n",
       "      <td>0</td>\n",
       "    </tr>\n",
       "    <tr>\n",
       "      <th>7</th>\n",
       "      <td>376</td>\n",
       "      <td>Germany</td>\n",
       "      <td>Female</td>\n",
       "      <td>29</td>\n",
       "      <td>4.0</td>\n",
       "      <td>115046.74</td>\n",
       "      <td>4</td>\n",
       "      <td>1</td>\n",
       "      <td>0</td>\n",
       "      <td>119346.88</td>\n",
       "      <td>1</td>\n",
       "    </tr>\n",
       "    <tr>\n",
       "      <th>8</th>\n",
       "      <td>501</td>\n",
       "      <td>France</td>\n",
       "      <td>Male</td>\n",
       "      <td>44</td>\n",
       "      <td>4.0</td>\n",
       "      <td>142051.07</td>\n",
       "      <td>2</td>\n",
       "      <td>0</td>\n",
       "      <td>1</td>\n",
       "      <td>74940.50</td>\n",
       "      <td>0</td>\n",
       "    </tr>\n",
       "    <tr>\n",
       "      <th>9</th>\n",
       "      <td>684</td>\n",
       "      <td>France</td>\n",
       "      <td>Male</td>\n",
       "      <td>27</td>\n",
       "      <td>2.0</td>\n",
       "      <td>134603.88</td>\n",
       "      <td>1</td>\n",
       "      <td>1</td>\n",
       "      <td>1</td>\n",
       "      <td>71725.73</td>\n",
       "      <td>0</td>\n",
       "    </tr>\n",
       "  </tbody>\n",
       "</table>\n",
       "</div>"
      ],
      "text/plain": [
       "   CreditScore Geography  Gender  Age  Tenure    Balance  NumOfProducts  \\\n",
       "0          619    France  Female   42     2.0       0.00              1   \n",
       "1          608     Spain  Female   41     1.0   83807.86              1   \n",
       "2          502    France  Female   42     8.0  159660.80              3   \n",
       "3          699    France  Female   39     1.0       0.00              2   \n",
       "4          850     Spain  Female   43     2.0  125510.82              1   \n",
       "5          645     Spain    Male   44     8.0  113755.78              2   \n",
       "6          822    France    Male   50     7.0       0.00              2   \n",
       "7          376   Germany  Female   29     4.0  115046.74              4   \n",
       "8          501    France    Male   44     4.0  142051.07              2   \n",
       "9          684    France    Male   27     2.0  134603.88              1   \n",
       "\n",
       "   HasCrCard  IsActiveMember  EstimatedSalary  Exited  \n",
       "0          1               1        101348.88       1  \n",
       "1          0               1        112542.58       0  \n",
       "2          1               0        113931.57       1  \n",
       "3          0               0         93826.63       0  \n",
       "4          1               1         79084.10       0  \n",
       "5          1               0        149756.71       1  \n",
       "6          1               1         10062.80       0  \n",
       "7          1               0        119346.88       1  \n",
       "8          0               1         74940.50       0  \n",
       "9          1               1         71725.73       0  "
      ]
     },
     "metadata": {},
     "output_type": "display_data"
    }
   ],
   "source": [
    "data = data.loc[:, 'CreditScore':'Exited']\n",
    "display(data.head(10))"
   ]
  },
  {
   "cell_type": "markdown",
   "metadata": {},
   "source": [
    "Разделим данные на тренировочную, валидационную и тестовую выборку в пропорции 3:1:1."
   ]
  },
  {
   "cell_type": "code",
   "execution_count": 5,
   "metadata": {},
   "outputs": [],
   "source": [
    "target = data['Exited']\n",
    "features = data.drop('Exited', axis=1)\n",
    "features_train, features_vt, target_train, target_vt = train_test_split(features, \n",
    "    target, test_size=0.4, random_state=12345)\n",
    "features_valid, features_test, target_valid, target_test = train_test_split(features_vt, \n",
    "    target_vt, test_size=0.5, random_state=12345)"
   ]
  },
  {
   "cell_type": "markdown",
   "metadata": {},
   "source": [
    "Перед обучением модели необходимо сделать дополнительные преобразования: \n",
    "1. Категориальные данные перекодировать\n",
    "2. Численные признаки масштабировать"
   ]
  },
  {
   "cell_type": "code",
   "execution_count": 6,
   "metadata": {},
   "outputs": [
    {
     "name": "stderr",
     "output_type": "stream",
     "text": [
      "/tmp/ipykernel_77/3295652780.py:5: SettingWithCopyWarning: \n",
      "A value is trying to be set on a copy of a slice from a DataFrame.\n",
      "Try using .loc[row_indexer,col_indexer] = value instead\n",
      "\n",
      "See the caveats in the documentation: https://pandas.pydata.org/pandas-docs/stable/user_guide/indexing.html#returning-a-view-versus-a-copy\n",
      "  features_train[categorial] = encoder.fit_transform(features_train[categorial])\n",
      "/opt/conda/lib/python3.9/site-packages/pandas/core/indexing.py:1738: SettingWithCopyWarning: \n",
      "A value is trying to be set on a copy of a slice from a DataFrame.\n",
      "Try using .loc[row_indexer,col_indexer] = value instead\n",
      "\n",
      "See the caveats in the documentation: https://pandas.pydata.org/pandas-docs/stable/user_guide/indexing.html#returning-a-view-versus-a-copy\n",
      "  self._setitem_single_column(loc, value[:, i].tolist(), pi)\n",
      "/tmp/ipykernel_77/3295652780.py:6: SettingWithCopyWarning: \n",
      "A value is trying to be set on a copy of a slice from a DataFrame.\n",
      "Try using .loc[row_indexer,col_indexer] = value instead\n",
      "\n",
      "See the caveats in the documentation: https://pandas.pydata.org/pandas-docs/stable/user_guide/indexing.html#returning-a-view-versus-a-copy\n",
      "  features_valid[categorial] = encoder.transform(features_valid[categorial])\n",
      "/opt/conda/lib/python3.9/site-packages/pandas/core/indexing.py:1738: SettingWithCopyWarning: \n",
      "A value is trying to be set on a copy of a slice from a DataFrame.\n",
      "Try using .loc[row_indexer,col_indexer] = value instead\n",
      "\n",
      "See the caveats in the documentation: https://pandas.pydata.org/pandas-docs/stable/user_guide/indexing.html#returning-a-view-versus-a-copy\n",
      "  self._setitem_single_column(loc, value[:, i].tolist(), pi)\n",
      "/tmp/ipykernel_77/3295652780.py:7: SettingWithCopyWarning: \n",
      "A value is trying to be set on a copy of a slice from a DataFrame.\n",
      "Try using .loc[row_indexer,col_indexer] = value instead\n",
      "\n",
      "See the caveats in the documentation: https://pandas.pydata.org/pandas-docs/stable/user_guide/indexing.html#returning-a-view-versus-a-copy\n",
      "  features_test[categorial] = encoder.transform(features_test[categorial])\n",
      "/opt/conda/lib/python3.9/site-packages/pandas/core/indexing.py:1738: SettingWithCopyWarning: \n",
      "A value is trying to be set on a copy of a slice from a DataFrame.\n",
      "Try using .loc[row_indexer,col_indexer] = value instead\n",
      "\n",
      "See the caveats in the documentation: https://pandas.pydata.org/pandas-docs/stable/user_guide/indexing.html#returning-a-view-versus-a-copy\n",
      "  self._setitem_single_column(loc, value[:, i].tolist(), pi)\n",
      "/tmp/ipykernel_77/3295652780.py:10: SettingWithCopyWarning: \n",
      "A value is trying to be set on a copy of a slice from a DataFrame.\n",
      "Try using .loc[row_indexer,col_indexer] = value instead\n",
      "\n",
      "See the caveats in the documentation: https://pandas.pydata.org/pandas-docs/stable/user_guide/indexing.html#returning-a-view-versus-a-copy\n",
      "  features_train[numeric] = scaler.fit_transform(features_train[numeric])\n",
      "/opt/conda/lib/python3.9/site-packages/pandas/core/indexing.py:1738: SettingWithCopyWarning: \n",
      "A value is trying to be set on a copy of a slice from a DataFrame.\n",
      "Try using .loc[row_indexer,col_indexer] = value instead\n",
      "\n",
      "See the caveats in the documentation: https://pandas.pydata.org/pandas-docs/stable/user_guide/indexing.html#returning-a-view-versus-a-copy\n",
      "  self._setitem_single_column(loc, value[:, i].tolist(), pi)\n",
      "/tmp/ipykernel_77/3295652780.py:11: SettingWithCopyWarning: \n",
      "A value is trying to be set on a copy of a slice from a DataFrame.\n",
      "Try using .loc[row_indexer,col_indexer] = value instead\n",
      "\n",
      "See the caveats in the documentation: https://pandas.pydata.org/pandas-docs/stable/user_guide/indexing.html#returning-a-view-versus-a-copy\n",
      "  features_valid[numeric] = scaler.fit_transform(features_valid[numeric])\n",
      "/opt/conda/lib/python3.9/site-packages/pandas/core/indexing.py:1738: SettingWithCopyWarning: \n",
      "A value is trying to be set on a copy of a slice from a DataFrame.\n",
      "Try using .loc[row_indexer,col_indexer] = value instead\n",
      "\n",
      "See the caveats in the documentation: https://pandas.pydata.org/pandas-docs/stable/user_guide/indexing.html#returning-a-view-versus-a-copy\n",
      "  self._setitem_single_column(loc, value[:, i].tolist(), pi)\n",
      "/tmp/ipykernel_77/3295652780.py:12: SettingWithCopyWarning: \n",
      "A value is trying to be set on a copy of a slice from a DataFrame.\n",
      "Try using .loc[row_indexer,col_indexer] = value instead\n",
      "\n",
      "See the caveats in the documentation: https://pandas.pydata.org/pandas-docs/stable/user_guide/indexing.html#returning-a-view-versus-a-copy\n",
      "  features_test[numeric] = scaler.fit_transform(features_test[numeric])\n",
      "/opt/conda/lib/python3.9/site-packages/pandas/core/indexing.py:1738: SettingWithCopyWarning: \n",
      "A value is trying to be set on a copy of a slice from a DataFrame.\n",
      "Try using .loc[row_indexer,col_indexer] = value instead\n",
      "\n",
      "See the caveats in the documentation: https://pandas.pydata.org/pandas-docs/stable/user_guide/indexing.html#returning-a-view-versus-a-copy\n",
      "  self._setitem_single_column(loc, value[:, i].tolist(), pi)\n"
     ]
    },
    {
     "data": {
      "text/html": [
       "<div>\n",
       "<style scoped>\n",
       "    .dataframe tbody tr th:only-of-type {\n",
       "        vertical-align: middle;\n",
       "    }\n",
       "\n",
       "    .dataframe tbody tr th {\n",
       "        vertical-align: top;\n",
       "    }\n",
       "\n",
       "    .dataframe thead th {\n",
       "        text-align: right;\n",
       "    }\n",
       "</style>\n",
       "<table border=\"1\" class=\"dataframe\">\n",
       "  <thead>\n",
       "    <tr style=\"text-align: right;\">\n",
       "      <th></th>\n",
       "      <th>CreditScore</th>\n",
       "      <th>Geography</th>\n",
       "      <th>Gender</th>\n",
       "      <th>Age</th>\n",
       "      <th>Tenure</th>\n",
       "      <th>Balance</th>\n",
       "      <th>NumOfProducts</th>\n",
       "      <th>HasCrCard</th>\n",
       "      <th>IsActiveMember</th>\n",
       "      <th>EstimatedSalary</th>\n",
       "    </tr>\n",
       "  </thead>\n",
       "  <tbody>\n",
       "    <tr>\n",
       "      <th>7479</th>\n",
       "      <td>-0.886751</td>\n",
       "      <td>2.0</td>\n",
       "      <td>1.0</td>\n",
       "      <td>-0.373192</td>\n",
       "      <td>1.104696</td>\n",
       "      <td>1.232271</td>\n",
       "      <td>-0.891560</td>\n",
       "      <td>1</td>\n",
       "      <td>0</td>\n",
       "      <td>-0.187705</td>\n",
       "    </tr>\n",
       "    <tr>\n",
       "      <th>3411</th>\n",
       "      <td>0.608663</td>\n",
       "      <td>0.0</td>\n",
       "      <td>0.0</td>\n",
       "      <td>-0.183385</td>\n",
       "      <td>1.104696</td>\n",
       "      <td>0.600563</td>\n",
       "      <td>-0.891560</td>\n",
       "      <td>0</td>\n",
       "      <td>0</td>\n",
       "      <td>-0.333945</td>\n",
       "    </tr>\n",
       "    <tr>\n",
       "      <th>6027</th>\n",
       "      <td>2.052152</td>\n",
       "      <td>1.0</td>\n",
       "      <td>1.0</td>\n",
       "      <td>0.480939</td>\n",
       "      <td>-0.503694</td>\n",
       "      <td>1.027098</td>\n",
       "      <td>0.830152</td>\n",
       "      <td>0</td>\n",
       "      <td>1</td>\n",
       "      <td>1.503095</td>\n",
       "    </tr>\n",
       "    <tr>\n",
       "      <th>1247</th>\n",
       "      <td>-1.457915</td>\n",
       "      <td>0.0</td>\n",
       "      <td>1.0</td>\n",
       "      <td>-1.417129</td>\n",
       "      <td>0.461340</td>\n",
       "      <td>-1.233163</td>\n",
       "      <td>0.830152</td>\n",
       "      <td>1</td>\n",
       "      <td>0</td>\n",
       "      <td>-1.071061</td>\n",
       "    </tr>\n",
       "    <tr>\n",
       "      <th>3716</th>\n",
       "      <td>0.130961</td>\n",
       "      <td>1.0</td>\n",
       "      <td>0.0</td>\n",
       "      <td>-1.132419</td>\n",
       "      <td>-0.825373</td>\n",
       "      <td>1.140475</td>\n",
       "      <td>-0.891560</td>\n",
       "      <td>0</td>\n",
       "      <td>0</td>\n",
       "      <td>1.524268</td>\n",
       "    </tr>\n",
       "  </tbody>\n",
       "</table>\n",
       "</div>"
      ],
      "text/plain": [
       "      CreditScore  Geography  Gender       Age    Tenure   Balance  \\\n",
       "7479    -0.886751        2.0     1.0 -0.373192  1.104696  1.232271   \n",
       "3411     0.608663        0.0     0.0 -0.183385  1.104696  0.600563   \n",
       "6027     2.052152        1.0     1.0  0.480939 -0.503694  1.027098   \n",
       "1247    -1.457915        0.0     1.0 -1.417129  0.461340 -1.233163   \n",
       "3716     0.130961        1.0     0.0 -1.132419 -0.825373  1.140475   \n",
       "\n",
       "      NumOfProducts  HasCrCard  IsActiveMember  EstimatedSalary  \n",
       "7479      -0.891560          1               0        -0.187705  \n",
       "3411      -0.891560          0               0        -0.333945  \n",
       "6027       0.830152          0               1         1.503095  \n",
       "1247       0.830152          1               0        -1.071061  \n",
       "3716      -0.891560          0               0         1.524268  "
      ]
     },
     "metadata": {},
     "output_type": "display_data"
    },
    {
     "data": {
      "text/html": [
       "<div>\n",
       "<style scoped>\n",
       "    .dataframe tbody tr th:only-of-type {\n",
       "        vertical-align: middle;\n",
       "    }\n",
       "\n",
       "    .dataframe tbody tr th {\n",
       "        vertical-align: top;\n",
       "    }\n",
       "\n",
       "    .dataframe thead th {\n",
       "        text-align: right;\n",
       "    }\n",
       "</style>\n",
       "<table border=\"1\" class=\"dataframe\">\n",
       "  <thead>\n",
       "    <tr style=\"text-align: right;\">\n",
       "      <th></th>\n",
       "      <th>CreditScore</th>\n",
       "      <th>Geography</th>\n",
       "      <th>Gender</th>\n",
       "      <th>Age</th>\n",
       "      <th>Tenure</th>\n",
       "      <th>Balance</th>\n",
       "      <th>NumOfProducts</th>\n",
       "      <th>HasCrCard</th>\n",
       "      <th>IsActiveMember</th>\n",
       "      <th>EstimatedSalary</th>\n",
       "    </tr>\n",
       "  </thead>\n",
       "  <tbody>\n",
       "    <tr>\n",
       "      <th>8532</th>\n",
       "      <td>-0.643740</td>\n",
       "      <td>0.0</td>\n",
       "      <td>0.0</td>\n",
       "      <td>-0.366305</td>\n",
       "      <td>-0.775630</td>\n",
       "      <td>-1.235001</td>\n",
       "      <td>0.772118</td>\n",
       "      <td>1</td>\n",
       "      <td>0</td>\n",
       "      <td>-0.043299</td>\n",
       "    </tr>\n",
       "    <tr>\n",
       "      <th>5799</th>\n",
       "      <td>-0.229103</td>\n",
       "      <td>0.0</td>\n",
       "      <td>0.0</td>\n",
       "      <td>0.567908</td>\n",
       "      <td>-0.452720</td>\n",
       "      <td>-1.235001</td>\n",
       "      <td>-0.936108</td>\n",
       "      <td>1</td>\n",
       "      <td>1</td>\n",
       "      <td>1.439245</td>\n",
       "    </tr>\n",
       "    <tr>\n",
       "      <th>5511</th>\n",
       "      <td>0.206266</td>\n",
       "      <td>1.0</td>\n",
       "      <td>1.0</td>\n",
       "      <td>-0.646569</td>\n",
       "      <td>-1.421451</td>\n",
       "      <td>0.421977</td>\n",
       "      <td>-0.936108</td>\n",
       "      <td>1</td>\n",
       "      <td>0</td>\n",
       "      <td>-1.391276</td>\n",
       "    </tr>\n",
       "    <tr>\n",
       "      <th>7365</th>\n",
       "      <td>-0.819960</td>\n",
       "      <td>2.0</td>\n",
       "      <td>0.0</td>\n",
       "      <td>-0.272884</td>\n",
       "      <td>1.807651</td>\n",
       "      <td>1.216012</td>\n",
       "      <td>-0.936108</td>\n",
       "      <td>1</td>\n",
       "      <td>1</td>\n",
       "      <td>-0.812386</td>\n",
       "    </tr>\n",
       "    <tr>\n",
       "      <th>7367</th>\n",
       "      <td>-0.426055</td>\n",
       "      <td>2.0</td>\n",
       "      <td>1.0</td>\n",
       "      <td>0.287644</td>\n",
       "      <td>1.807651</td>\n",
       "      <td>-1.235001</td>\n",
       "      <td>0.772118</td>\n",
       "      <td>1</td>\n",
       "      <td>0</td>\n",
       "      <td>1.326385</td>\n",
       "    </tr>\n",
       "  </tbody>\n",
       "</table>\n",
       "</div>"
      ],
      "text/plain": [
       "      CreditScore  Geography  Gender       Age    Tenure   Balance  \\\n",
       "8532    -0.643740        0.0     0.0 -0.366305 -0.775630 -1.235001   \n",
       "5799    -0.229103        0.0     0.0  0.567908 -0.452720 -1.235001   \n",
       "5511     0.206266        1.0     1.0 -0.646569 -1.421451  0.421977   \n",
       "7365    -0.819960        2.0     0.0 -0.272884  1.807651  1.216012   \n",
       "7367    -0.426055        2.0     1.0  0.287644  1.807651 -1.235001   \n",
       "\n",
       "      NumOfProducts  HasCrCard  IsActiveMember  EstimatedSalary  \n",
       "8532       0.772118          1               0        -0.043299  \n",
       "5799      -0.936108          1               1         1.439245  \n",
       "5511      -0.936108          1               0        -1.391276  \n",
       "7365      -0.936108          1               1        -0.812386  \n",
       "7367       0.772118          1               0         1.326385  "
      ]
     },
     "metadata": {},
     "output_type": "display_data"
    },
    {
     "data": {
      "text/html": [
       "<div>\n",
       "<style scoped>\n",
       "    .dataframe tbody tr th:only-of-type {\n",
       "        vertical-align: middle;\n",
       "    }\n",
       "\n",
       "    .dataframe tbody tr th {\n",
       "        vertical-align: top;\n",
       "    }\n",
       "\n",
       "    .dataframe thead th {\n",
       "        text-align: right;\n",
       "    }\n",
       "</style>\n",
       "<table border=\"1\" class=\"dataframe\">\n",
       "  <thead>\n",
       "    <tr style=\"text-align: right;\">\n",
       "      <th></th>\n",
       "      <th>CreditScore</th>\n",
       "      <th>Geography</th>\n",
       "      <th>Gender</th>\n",
       "      <th>Age</th>\n",
       "      <th>Tenure</th>\n",
       "      <th>Balance</th>\n",
       "      <th>NumOfProducts</th>\n",
       "      <th>HasCrCard</th>\n",
       "      <th>IsActiveMember</th>\n",
       "      <th>EstimatedSalary</th>\n",
       "    </tr>\n",
       "  </thead>\n",
       "  <tbody>\n",
       "    <tr>\n",
       "      <th>7041</th>\n",
       "      <td>-2.152343</td>\n",
       "      <td>0.0</td>\n",
       "      <td>1.0</td>\n",
       "      <td>-0.088115</td>\n",
       "      <td>-0.836335</td>\n",
       "      <td>-1.195546</td>\n",
       "      <td>0.777708</td>\n",
       "      <td>1</td>\n",
       "      <td>0</td>\n",
       "      <td>0.639115</td>\n",
       "    </tr>\n",
       "    <tr>\n",
       "      <th>5709</th>\n",
       "      <td>-0.044761</td>\n",
       "      <td>0.0</td>\n",
       "      <td>0.0</td>\n",
       "      <td>0.010780</td>\n",
       "      <td>1.400282</td>\n",
       "      <td>-1.195546</td>\n",
       "      <td>-0.948613</td>\n",
       "      <td>1</td>\n",
       "      <td>0</td>\n",
       "      <td>-1.722312</td>\n",
       "    </tr>\n",
       "    <tr>\n",
       "      <th>7117</th>\n",
       "      <td>-0.863239</td>\n",
       "      <td>2.0</td>\n",
       "      <td>1.0</td>\n",
       "      <td>-0.780381</td>\n",
       "      <td>0.122215</td>\n",
       "      <td>0.734471</td>\n",
       "      <td>-0.948613</td>\n",
       "      <td>1</td>\n",
       "      <td>1</td>\n",
       "      <td>-1.426223</td>\n",
       "    </tr>\n",
       "    <tr>\n",
       "      <th>7775</th>\n",
       "      <td>-0.208456</td>\n",
       "      <td>2.0</td>\n",
       "      <td>1.0</td>\n",
       "      <td>0.109675</td>\n",
       "      <td>1.719798</td>\n",
       "      <td>-1.195546</td>\n",
       "      <td>0.777708</td>\n",
       "      <td>1</td>\n",
       "      <td>0</td>\n",
       "      <td>0.053240</td>\n",
       "    </tr>\n",
       "    <tr>\n",
       "      <th>8735</th>\n",
       "      <td>0.814642</td>\n",
       "      <td>0.0</td>\n",
       "      <td>1.0</td>\n",
       "      <td>-0.879276</td>\n",
       "      <td>1.719798</td>\n",
       "      <td>0.629177</td>\n",
       "      <td>-0.948613</td>\n",
       "      <td>0</td>\n",
       "      <td>1</td>\n",
       "      <td>-1.120569</td>\n",
       "    </tr>\n",
       "  </tbody>\n",
       "</table>\n",
       "</div>"
      ],
      "text/plain": [
       "      CreditScore  Geography  Gender       Age    Tenure   Balance  \\\n",
       "7041    -2.152343        0.0     1.0 -0.088115 -0.836335 -1.195546   \n",
       "5709    -0.044761        0.0     0.0  0.010780  1.400282 -1.195546   \n",
       "7117    -0.863239        2.0     1.0 -0.780381  0.122215  0.734471   \n",
       "7775    -0.208456        2.0     1.0  0.109675  1.719798 -1.195546   \n",
       "8735     0.814642        0.0     1.0 -0.879276  1.719798  0.629177   \n",
       "\n",
       "      NumOfProducts  HasCrCard  IsActiveMember  EstimatedSalary  \n",
       "7041       0.777708          1               0         0.639115  \n",
       "5709      -0.948613          1               0        -1.722312  \n",
       "7117      -0.948613          1               1        -1.426223  \n",
       "7775       0.777708          1               0         0.053240  \n",
       "8735      -0.948613          0               1        -1.120569  "
      ]
     },
     "metadata": {},
     "output_type": "display_data"
    }
   ],
   "source": [
    "categorial = ['Geography', 'Gender']\n",
    "numeric = ['CreditScore', 'Age', 'Tenure', 'Balance', 'NumOfProducts', 'EstimatedSalary']\n",
    "\n",
    "encoder = OrdinalEncoder()\n",
    "features_train[categorial] = encoder.fit_transform(features_train[categorial])\n",
    "features_valid[categorial] = encoder.transform(features_valid[categorial])\n",
    "features_test[categorial] = encoder.transform(features_test[categorial])\n",
    "\n",
    "scaler = StandardScaler()\n",
    "features_train[numeric] = scaler.fit_transform(features_train[numeric])\n",
    "features_valid[numeric] = scaler.fit_transform(features_valid[numeric])\n",
    "features_test[numeric] = scaler.fit_transform(features_test[numeric])\n",
    "display(features_train.head())\n",
    "display(features_valid.head())\n",
    "display(features_test.head())"
   ]
  },
  {
   "cell_type": "markdown",
   "metadata": {},
   "source": [
    "## Исследование задачи"
   ]
  },
  {
   "cell_type": "markdown",
   "metadata": {},
   "source": [
    "Проверим баланс классов. "
   ]
  },
  {
   "cell_type": "code",
   "execution_count": 7,
   "metadata": {},
   "outputs": [
    {
     "data": {
      "text/plain": [
       "0.2037"
      ]
     },
     "metadata": {},
     "output_type": "display_data"
    }
   ],
   "source": [
    "display(data['Exited'].sum()/len(data['Exited']))"
   ]
  },
  {
   "cell_type": "code",
   "execution_count": 8,
   "metadata": {},
   "outputs": [
    {
     "data": {
      "text/plain": [
       "'F1:'"
      ]
     },
     "metadata": {},
     "output_type": "display_data"
    },
    {
     "data": {
      "text/plain": [
       "0.2671614100185529"
      ]
     },
     "metadata": {},
     "output_type": "display_data"
    }
   ],
   "source": [
    "model = LogisticRegression(random_state=12345, solver='liblinear')\n",
    "model.fit(features_train, target_train)\n",
    "predicted_values = model.predict(features_valid)\n",
    "display(\"F1:\",f1_score(predicted_values, target_valid))"
   ]
  },
  {
   "cell_type": "markdown",
   "metadata": {},
   "source": [
    "Положительных ответов ~20%, это может оказывать влияние на результат, поэтому применим несколько способов балансировки классов.\n",
    "Метрика F1 для несбалансированных данных ~0.27. Это довольно низкий результат. В ходе альнейшего анализа мы проверим влияние разных методов балансировки классов и гиперпараметров модели на этот показатель."
   ]
  },
  {
   "cell_type": "markdown",
   "metadata": {},
   "source": [
    "## Борьба с дисбалансом"
   ]
  },
  {
   "cell_type": "markdown",
   "metadata": {},
   "source": [
    "Попробуем использовать гиперпараметр class_weight для разых моделей:"
   ]
  },
  {
   "cell_type": "code",
   "execution_count": 9,
   "metadata": {},
   "outputs": [
    {
     "data": {
      "text/plain": [
       "'F1:'"
      ]
     },
     "metadata": {},
     "output_type": "display_data"
    },
    {
     "data": {
      "text/plain": [
       "0.4762711864406779"
      ]
     },
     "metadata": {},
     "output_type": "display_data"
    }
   ],
   "source": [
    "model = LogisticRegression(random_state=12345, solver='liblinear', class_weight='balanced')\n",
    "model.fit(features_train, target_train)\n",
    "predicted_values = model.predict(features_valid)\n",
    "display(\"F1:\", f1_score(predicted_values, target_valid))"
   ]
  },
  {
   "cell_type": "code",
   "execution_count": 10,
   "metadata": {},
   "outputs": [
    {
     "data": {
      "text/plain": [
       "'F1:'"
      ]
     },
     "metadata": {},
     "output_type": "display_data"
    },
    {
     "data": {
      "text/plain": [
       "0.4760705289672544"
      ]
     },
     "metadata": {},
     "output_type": "display_data"
    }
   ],
   "source": [
    "model = DecisionTreeClassifier(random_state=12345, class_weight='balanced')\n",
    "model.fit(features_train, target_train)\n",
    "predicted_values = model.predict(features_valid)\n",
    "display(\"F1:\", f1_score(predicted_values, target_valid))"
   ]
  },
  {
   "cell_type": "markdown",
   "metadata": {},
   "source": [
    "Попробуем использовать гиперпараметр class_weight для модели случайного леса и пиграться с другими гиперпараметрами, чтобы найти лучший результат:"
   ]
  },
  {
   "cell_type": "code",
   "execution_count": 11,
   "metadata": {},
   "outputs": [
    {
     "name": "stdout",
     "output_type": "stream",
     "text": [
      "1 0.5381083562901745\n",
      "2 0.5761078998073218\n",
      "3 0.5796545105566219\n",
      "4 0.6068548387096774\n",
      "5 0.6081632653061224\n",
      "6 0.6136595310907238\n",
      "7 0.6193001060445388\n",
      "8 0.6153846153846154\n",
      "9 0.6195899772209568\n",
      "10 0.6058394160583942\n",
      "11 0.5956354300385109\n",
      "12 0.5861601085481682\n",
      "13 0.5706293706293706\n",
      "14 0.5693848354792561\n",
      "15 0.5748148148148149\n",
      "10 0.5900900900900902\n",
      "20 0.6104328523862376\n",
      "30 0.6174801362088536\n",
      "40 0.6195899772209568\n",
      "50 0.612756264236902\n",
      "60 0.61345496009122\n",
      "70 0.6153846153846155\n",
      "80 0.6129032258064517\n",
      "90 0.6189376443418014\n",
      "100 0.6183908045977011\n"
     ]
    }
   ],
   "source": [
    "for depth in range(1, 16, 1):\n",
    "    model = RandomForestClassifier(n_estimators=40, max_depth=depth, random_state=12345, class_weight='balanced')\n",
    "    model.fit(features_train, target_train)\n",
    "    predicted_values = model.predict(features_valid)\n",
    "    print(depth, f1_score(predicted_values, target_valid))\n",
    "    \n",
    "for est in range(10, 110, 10):\n",
    "    model = RandomForestClassifier(n_estimators=est, max_depth=9, random_state=12345, class_weight='balanced')\n",
    "    model.fit(features_train, target_train)\n",
    "    predicted_values = model.predict(features_valid)\n",
    "    print(est, f1_score(predicted_values, target_valid))"
   ]
  },
  {
   "cell_type": "markdown",
   "metadata": {},
   "source": [
    "Попробуем технику апсемплинга и даунсемплинга:"
   ]
  },
  {
   "cell_type": "code",
   "execution_count": 12,
   "metadata": {
    "scrolled": true
   },
   "outputs": [
    {
     "name": "stdout",
     "output_type": "stream",
     "text": [
      "F1: 0.6219081272084807\n"
     ]
    }
   ],
   "source": [
    "def upsample(features, target, repeat):\n",
    "    features_zeros = features[target == 0]\n",
    "    features_ones = features[target == 1]\n",
    "    target_zeros = target[target == 0]\n",
    "    target_ones = target[target == 1]\n",
    "\n",
    "    features_upsampled = pd.concat([features_zeros] + [features_ones] * repeat)\n",
    "    target_upsampled = pd.concat([target_zeros] + [target_ones] * repeat)\n",
    "    \n",
    "    features_upsampled, target_upsampled = shuffle(\n",
    "        features_upsampled, target_upsampled, random_state=12345)\n",
    "    \n",
    "    return features_upsampled, target_upsampled\n",
    "\n",
    "features_upsampled, target_upsampled = upsample(features_train, target_train, 3)\n",
    "\n",
    "model = RandomForestClassifier(n_estimators=est, max_depth=9, random_state=12345)\n",
    "model.fit(features_upsampled, target_upsampled)\n",
    "predicted_valid = model.predict(features_valid)\n",
    "\n",
    "print(\"F1:\", f1_score(target_valid, predicted_valid))"
   ]
  },
  {
   "cell_type": "code",
   "execution_count": 13,
   "metadata": {
    "scrolled": true
   },
   "outputs": [
    {
     "name": "stdout",
     "output_type": "stream",
     "text": [
      "F1: 0.6272189349112426\n"
     ]
    }
   ],
   "source": [
    "def downsample(features, target, fraction):\n",
    "    features_zeros = features[target == 0]\n",
    "    features_ones = features[target == 1]\n",
    "    target_zeros = target[target == 0]\n",
    "    target_ones = target[target == 1]\n",
    "\n",
    "    features_downsampled = pd.concat(\n",
    "        [features_zeros.sample(frac=fraction, random_state=12345)] + [features_ones])\n",
    "    target_downsampled = pd.concat(\n",
    "        [target_zeros.sample(frac=fraction, random_state=12345)] + [target_ones])\n",
    "    \n",
    "    features_downsampled, target_downsampled = shuffle(\n",
    "        features_downsampled, target_downsampled, random_state=12345)\n",
    "    \n",
    "    return features_downsampled, target_downsampled\n",
    "\n",
    "features_downsampled, target_downsampled = downsample(features_train, target_train, 0.4)\n",
    "\n",
    "model = RandomForestClassifier(n_estimators=40, max_depth=9, random_state=12345)\n",
    "model.fit(features_downsampled, target_downsampled)\n",
    "predicted_valid = model.predict(features_valid)\n",
    "\n",
    "print(\"F1:\", f1_score(target_valid, predicted_valid))"
   ]
  },
  {
   "cell_type": "markdown",
   "metadata": {},
   "source": [
    "Попробуем технику управления пороговым значением:"
   ]
  },
  {
   "cell_type": "code",
   "execution_count": 14,
   "metadata": {},
   "outputs": [
    {
     "name": "stdout",
     "output_type": "stream",
     "text": [
      "0.1 0.41917502787068\n",
      "0.15 0.45236463331048665\n",
      "0.2 0.47215295095594345\n",
      "0.25 0.4827586206896552\n",
      "0.3 0.46347031963470314\n",
      "0.35 0.42988204456094364\n",
      "0.4 0.3713850837138509\n"
     ]
    }
   ],
   "source": [
    "model = LogisticRegression(random_state=12345, solver='liblinear')\n",
    "model.fit(features_train, target_train)\n",
    "probabilities_valid = model.predict_proba(features_valid)\n",
    "probabilities_one_valid = probabilities_valid[:, 1]\n",
    "\n",
    "for threshold in np.arange(0.1, 0.4, 0.05):\n",
    "    predicted_valid = probabilities_one_valid > threshold\n",
    "    print(round(threshold, 2), f1_score(target_valid, predicted_valid))"
   ]
  },
  {
   "cell_type": "code",
   "execution_count": 15,
   "metadata": {},
   "outputs": [
    {
     "name": "stdout",
     "output_type": "stream",
     "text": [
      "0.1 0.47878404053198226\n",
      "0.15 0.5328124999999999\n",
      "0.2 0.6064638783269962\n",
      "0.25 0.6345733041575493\n",
      "0.3 0.6070991432068543\n",
      "0.35 0.6050198150594451\n",
      "0.4 0.5929078014184397\n"
     ]
    }
   ],
   "source": [
    "model = RandomForestClassifier(n_estimators=40, max_depth=9, random_state=12345)\n",
    "model.fit(features_train, target_train)\n",
    "probabilities_valid = model.predict_proba(features_valid)\n",
    "probabilities_one_valid = probabilities_valid[:, 1]\n",
    "\n",
    "for threshold in np.arange(0.1, 0.4, 0.05):\n",
    "    predicted_valid = probabilities_one_valid > threshold\n",
    "    print(round(threshold, 2), f1_score(target_valid, predicted_valid))"
   ]
  },
  {
   "cell_type": "markdown",
   "metadata": {},
   "source": [
    "Лучший результат показала модель случайного леса, с количеством деревьев 40 и максимальной глубиной 9. Лучшая техника балансировки классов: выбор порога, модельно показала точность F1 ~0.63, сочетание этих выводов будет использоваться для финального тестирования модели."
   ]
  },
  {
   "cell_type": "markdown",
   "metadata": {},
   "source": [
    "## Тестирование модели"
   ]
  },
  {
   "cell_type": "code",
   "execution_count": 16,
   "metadata": {},
   "outputs": [
    {
     "name": "stdout",
     "output_type": "stream",
     "text": [
      "F1: 0.596923076923077\n",
      "AUC-ROC: 0.7612195703305945\n"
     ]
    }
   ],
   "source": [
    "features_downsampled, target_downsampled = downsample(features_train, target_train, 0.3)\n",
    "\n",
    "model = RandomForestClassifier(n_estimators=30, max_depth=8, random_state=12345)\n",
    "model.fit(features_downsampled, target_downsampled)\n",
    "predicted_test = model.predict(features_test)\n",
    "\n",
    "print(\"F1:\", f1_score(target_test, predicted_test))\n",
    "print(\"AUC-ROC:\", roc_auc_score(target_test, predicted_test))"
   ]
  },
  {
   "cell_type": "markdown",
   "metadata": {},
   "source": [
    "В результате получилась модель, которая показывает результат ~0.60 на тестовой выборке.\n",
    "Метрика AUC-ROC равна ~0.76"
   ]
  },
  {
   "cell_type": "markdown",
   "metadata": {},
   "source": [
    "В результате исследования была построена модель, способная предсказать отток клиентов банка. Итоговая модель показала результаты F1: 0.60 и AUC-ROC 0.76, что выполняет поставленную задачу.\n",
    "Чтобы добиться этого результата были проделаны следующие шаги:\n",
    "1. Обработаны данные, категорийный признако кодированы, а числовые масштабированы.\n",
    "2. Был исследован дисбаланс классов.\n",
    "3. Были рассмотрены разные модели, протестированы гиперпараметры и методы балансировки классов.\n",
    "4. Выбрана лучшая модель, на которой был сделан итоговый расчет."
   ]
  }
 ],
 "metadata": {
  "ExecuteTimeLog": [
   {
    "duration": 1256,
    "start_time": "2023-02-20T07:22:26.592Z"
   },
   {
    "duration": 245,
    "start_time": "2023-02-20T07:24:09.858Z"
   },
   {
    "duration": 152,
    "start_time": "2023-02-20T07:35:07.957Z"
   },
   {
    "duration": 10,
    "start_time": "2023-02-20T07:35:52.788Z"
   },
   {
    "duration": 88,
    "start_time": "2023-02-20T07:36:08.608Z"
   },
   {
    "duration": 19,
    "start_time": "2023-02-20T07:36:15.650Z"
   },
   {
    "duration": 3,
    "start_time": "2023-02-20T07:49:14.217Z"
   },
   {
    "duration": 23,
    "start_time": "2023-02-20T07:51:11.111Z"
   },
   {
    "duration": 36,
    "start_time": "2023-02-20T07:53:35.310Z"
   },
   {
    "duration": 28,
    "start_time": "2023-02-20T07:54:17.513Z"
   },
   {
    "duration": 45,
    "start_time": "2023-02-20T07:55:37.948Z"
   },
   {
    "duration": 18,
    "start_time": "2023-02-20T07:57:07.026Z"
   },
   {
    "duration": 18,
    "start_time": "2023-02-20T07:58:13.630Z"
   },
   {
    "duration": 17,
    "start_time": "2023-02-20T07:59:16.603Z"
   },
   {
    "duration": 21,
    "start_time": "2023-02-20T07:59:44.710Z"
   },
   {
    "duration": 20,
    "start_time": "2023-02-20T08:01:46.185Z"
   },
   {
    "duration": 1467,
    "start_time": "2023-02-20T08:02:31.068Z"
   },
   {
    "duration": 92,
    "start_time": "2023-02-20T08:02:32.537Z"
   },
   {
    "duration": 22,
    "start_time": "2023-02-20T08:02:32.631Z"
   },
   {
    "duration": 210,
    "start_time": "2023-02-20T08:02:32.656Z"
   },
   {
    "duration": 1462,
    "start_time": "2023-02-20T08:03:01.705Z"
   },
   {
    "duration": 98,
    "start_time": "2023-02-20T08:03:03.169Z"
   },
   {
    "duration": 22,
    "start_time": "2023-02-20T08:03:03.270Z"
   },
   {
    "duration": 79,
    "start_time": "2023-02-20T08:03:03.294Z"
   },
   {
    "duration": 1520,
    "start_time": "2023-02-20T08:08:30.295Z"
   },
   {
    "duration": 119,
    "start_time": "2023-02-20T08:08:31.818Z"
   },
   {
    "duration": 24,
    "start_time": "2023-02-20T08:08:31.939Z"
   },
   {
    "duration": 71,
    "start_time": "2023-02-20T08:08:31.966Z"
   },
   {
    "duration": 1532,
    "start_time": "2023-02-20T08:09:37.972Z"
   },
   {
    "duration": 101,
    "start_time": "2023-02-20T08:09:39.507Z"
   },
   {
    "duration": 22,
    "start_time": "2023-02-20T08:09:39.614Z"
   },
   {
    "duration": 236,
    "start_time": "2023-02-20T08:09:39.639Z"
   },
   {
    "duration": 1495,
    "start_time": "2023-02-20T08:10:04.062Z"
   },
   {
    "duration": 103,
    "start_time": "2023-02-20T08:10:05.560Z"
   },
   {
    "duration": 27,
    "start_time": "2023-02-20T08:10:05.665Z"
   },
   {
    "duration": 106,
    "start_time": "2023-02-20T08:10:05.694Z"
   },
   {
    "duration": 1614,
    "start_time": "2023-02-20T08:10:54.930Z"
   },
   {
    "duration": 114,
    "start_time": "2023-02-20T08:10:56.548Z"
   },
   {
    "duration": 27,
    "start_time": "2023-02-20T08:10:56.664Z"
   },
   {
    "duration": 106,
    "start_time": "2023-02-20T08:10:56.693Z"
   },
   {
    "duration": 8,
    "start_time": "2023-02-20T10:06:18.861Z"
   },
   {
    "duration": 5,
    "start_time": "2023-02-20T10:10:05.611Z"
   },
   {
    "duration": 5,
    "start_time": "2023-02-20T10:11:01.574Z"
   },
   {
    "duration": 6,
    "start_time": "2023-02-20T10:11:15.800Z"
   },
   {
    "duration": 98,
    "start_time": "2023-02-20T10:13:06.901Z"
   },
   {
    "duration": 3,
    "start_time": "2023-02-20T10:13:42.865Z"
   },
   {
    "duration": 12,
    "start_time": "2023-02-20T10:13:47.179Z"
   },
   {
    "duration": 26,
    "start_time": "2023-02-20T10:13:52.389Z"
   },
   {
    "duration": 27,
    "start_time": "2023-02-20T10:14:35.918Z"
   },
   {
    "duration": 21,
    "start_time": "2023-02-20T10:16:05.158Z"
   },
   {
    "duration": 18,
    "start_time": "2023-02-20T10:17:47.782Z"
   },
   {
    "duration": 7,
    "start_time": "2023-02-20T10:17:55.935Z"
   },
   {
    "duration": 25,
    "start_time": "2023-02-20T10:17:58.921Z"
   },
   {
    "duration": 6,
    "start_time": "2023-02-20T10:19:23.808Z"
   },
   {
    "duration": 5,
    "start_time": "2023-02-20T10:19:39.845Z"
   },
   {
    "duration": 9,
    "start_time": "2023-02-20T10:20:17.010Z"
   },
   {
    "duration": 10,
    "start_time": "2023-02-20T10:21:25.635Z"
   },
   {
    "duration": 380,
    "start_time": "2023-02-20T10:22:01.503Z"
   },
   {
    "duration": 358,
    "start_time": "2023-02-20T10:22:37.182Z"
   },
   {
    "duration": 7,
    "start_time": "2023-02-20T10:22:51.718Z"
   },
   {
    "duration": 7,
    "start_time": "2023-02-20T10:23:01.841Z"
   },
   {
    "duration": 11,
    "start_time": "2023-02-20T10:23:15.580Z"
   },
   {
    "duration": 7,
    "start_time": "2023-02-20T10:23:21.463Z"
   },
   {
    "duration": 8,
    "start_time": "2023-02-20T10:23:51.014Z"
   },
   {
    "duration": 6,
    "start_time": "2023-02-20T10:24:18.932Z"
   },
   {
    "duration": 6,
    "start_time": "2023-02-20T10:24:47.493Z"
   },
   {
    "duration": 24,
    "start_time": "2023-02-20T10:24:58.917Z"
   },
   {
    "duration": 1028,
    "start_time": "2023-02-20T10:25:15.980Z"
   },
   {
    "duration": 68,
    "start_time": "2023-02-20T10:25:17.010Z"
   },
   {
    "duration": 5,
    "start_time": "2023-02-20T10:25:17.079Z"
   },
   {
    "duration": 17,
    "start_time": "2023-02-20T10:25:17.085Z"
   },
   {
    "duration": 41,
    "start_time": "2023-02-20T10:25:17.104Z"
   },
   {
    "duration": 8,
    "start_time": "2023-02-20T10:25:17.147Z"
   },
   {
    "duration": 5,
    "start_time": "2023-02-20T10:25:17.157Z"
   },
   {
    "duration": 61,
    "start_time": "2023-02-20T10:25:17.164Z"
   },
   {
    "duration": 25,
    "start_time": "2023-02-20T10:26:13.053Z"
   },
   {
    "duration": 28,
    "start_time": "2023-02-20T10:26:22.827Z"
   },
   {
    "duration": 294,
    "start_time": "2023-02-20T10:27:19.804Z"
   },
   {
    "duration": 25,
    "start_time": "2023-02-20T10:27:40.102Z"
   },
   {
    "duration": 31,
    "start_time": "2023-02-20T10:27:58.209Z"
   },
   {
    "duration": 30,
    "start_time": "2023-02-20T10:28:04.731Z"
   },
   {
    "duration": 12,
    "start_time": "2023-02-20T10:44:50.529Z"
   },
   {
    "duration": 26,
    "start_time": "2023-02-20T10:44:58.836Z"
   },
   {
    "duration": 47,
    "start_time": "2023-02-20T10:46:34.545Z"
   },
   {
    "duration": 4,
    "start_time": "2023-02-20T10:47:03.841Z"
   },
   {
    "duration": 69,
    "start_time": "2023-02-20T10:47:07.656Z"
   },
   {
    "duration": 23,
    "start_time": "2023-02-20T10:47:56.384Z"
   },
   {
    "duration": 11,
    "start_time": "2023-02-20T10:49:14.976Z"
   },
   {
    "duration": 4,
    "start_time": "2023-02-20T10:49:28.987Z"
   },
   {
    "duration": 10,
    "start_time": "2023-02-20T10:49:33.263Z"
   },
   {
    "duration": 81,
    "start_time": "2023-02-20T10:50:00.948Z"
   },
   {
    "duration": 63,
    "start_time": "2023-02-20T10:50:59.359Z"
   },
   {
    "duration": 39,
    "start_time": "2023-02-20T10:51:09.288Z"
   },
   {
    "duration": 108,
    "start_time": "2023-02-20T10:51:38.816Z"
   },
   {
    "duration": 4,
    "start_time": "2023-02-20T10:53:08.156Z"
   },
   {
    "duration": 211,
    "start_time": "2023-02-20T10:53:42.511Z"
   },
   {
    "duration": 112,
    "start_time": "2023-02-20T10:54:43.709Z"
   },
   {
    "duration": 34,
    "start_time": "2023-02-20T10:55:09.796Z"
   },
   {
    "duration": 132,
    "start_time": "2023-02-20T10:55:20.590Z"
   },
   {
    "duration": 129,
    "start_time": "2023-02-20T10:55:35.097Z"
   },
   {
    "duration": 133,
    "start_time": "2023-02-20T10:55:50.792Z"
   },
   {
    "duration": 166,
    "start_time": "2023-02-20T10:55:56.358Z"
   },
   {
    "duration": 254,
    "start_time": "2023-02-20T10:56:28.386Z"
   },
   {
    "duration": 204,
    "start_time": "2023-02-20T10:57:14.160Z"
   },
   {
    "duration": 223,
    "start_time": "2023-02-20T10:57:35.203Z"
   },
   {
    "duration": 5,
    "start_time": "2023-02-20T10:59:12.282Z"
   },
   {
    "duration": 1126,
    "start_time": "2023-02-20T10:59:22.338Z"
   },
   {
    "duration": 67,
    "start_time": "2023-02-20T10:59:23.467Z"
   },
   {
    "duration": 5,
    "start_time": "2023-02-20T10:59:23.536Z"
   },
   {
    "duration": 19,
    "start_time": "2023-02-20T10:59:23.542Z"
   },
   {
    "duration": 40,
    "start_time": "2023-02-20T10:59:23.562Z"
   },
   {
    "duration": 21,
    "start_time": "2023-02-20T10:59:23.604Z"
   },
   {
    "duration": 7,
    "start_time": "2023-02-20T10:59:23.627Z"
   },
   {
    "duration": 116,
    "start_time": "2023-02-20T10:59:23.635Z"
   },
   {
    "duration": 0,
    "start_time": "2023-02-20T10:59:23.752Z"
   },
   {
    "duration": 0,
    "start_time": "2023-02-20T10:59:23.753Z"
   },
   {
    "duration": 0,
    "start_time": "2023-02-20T10:59:23.754Z"
   },
   {
    "duration": 0,
    "start_time": "2023-02-20T10:59:23.755Z"
   },
   {
    "duration": 1031,
    "start_time": "2023-02-20T11:00:46.167Z"
   },
   {
    "duration": 67,
    "start_time": "2023-02-20T11:00:47.200Z"
   },
   {
    "duration": 108,
    "start_time": "2023-02-20T11:00:47.269Z"
   },
   {
    "duration": 0,
    "start_time": "2023-02-20T11:00:47.378Z"
   },
   {
    "duration": 0,
    "start_time": "2023-02-20T11:00:47.379Z"
   },
   {
    "duration": 0,
    "start_time": "2023-02-20T11:00:47.380Z"
   },
   {
    "duration": 0,
    "start_time": "2023-02-20T11:00:47.381Z"
   },
   {
    "duration": 0,
    "start_time": "2023-02-20T11:00:47.382Z"
   },
   {
    "duration": 0,
    "start_time": "2023-02-20T11:00:47.383Z"
   },
   {
    "duration": 0,
    "start_time": "2023-02-20T11:00:47.384Z"
   },
   {
    "duration": 1,
    "start_time": "2023-02-20T11:00:47.384Z"
   },
   {
    "duration": 0,
    "start_time": "2023-02-20T11:00:47.386Z"
   },
   {
    "duration": 1143,
    "start_time": "2023-02-20T11:01:14.248Z"
   },
   {
    "duration": 68,
    "start_time": "2023-02-20T11:01:15.393Z"
   },
   {
    "duration": 103,
    "start_time": "2023-02-20T11:01:15.462Z"
   },
   {
    "duration": 0,
    "start_time": "2023-02-20T11:01:15.567Z"
   },
   {
    "duration": 0,
    "start_time": "2023-02-20T11:01:15.569Z"
   },
   {
    "duration": 0,
    "start_time": "2023-02-20T11:01:15.570Z"
   },
   {
    "duration": 0,
    "start_time": "2023-02-20T11:01:15.572Z"
   },
   {
    "duration": 0,
    "start_time": "2023-02-20T11:01:15.573Z"
   },
   {
    "duration": 0,
    "start_time": "2023-02-20T11:01:15.574Z"
   },
   {
    "duration": 0,
    "start_time": "2023-02-20T11:01:15.576Z"
   },
   {
    "duration": 0,
    "start_time": "2023-02-20T11:01:15.577Z"
   },
   {
    "duration": 0,
    "start_time": "2023-02-20T11:01:15.578Z"
   },
   {
    "duration": 27,
    "start_time": "2023-02-20T11:01:52.208Z"
   },
   {
    "duration": 1071,
    "start_time": "2023-02-20T11:01:57.751Z"
   },
   {
    "duration": 69,
    "start_time": "2023-02-20T11:01:58.824Z"
   },
   {
    "duration": 11,
    "start_time": "2023-02-20T11:01:58.895Z"
   },
   {
    "duration": 14,
    "start_time": "2023-02-20T11:01:58.908Z"
   },
   {
    "duration": 40,
    "start_time": "2023-02-20T11:01:58.924Z"
   },
   {
    "duration": 6,
    "start_time": "2023-02-20T11:01:58.966Z"
   },
   {
    "duration": 6,
    "start_time": "2023-02-20T11:01:58.974Z"
   },
   {
    "duration": 140,
    "start_time": "2023-02-20T11:01:58.982Z"
   },
   {
    "duration": 196,
    "start_time": "2023-02-20T11:01:59.125Z"
   },
   {
    "duration": 192,
    "start_time": "2023-02-20T11:01:59.329Z"
   },
   {
    "duration": 109,
    "start_time": "2023-02-20T11:01:59.527Z"
   },
   {
    "duration": 284,
    "start_time": "2023-02-20T11:01:59.639Z"
   },
   {
    "duration": 104,
    "start_time": "2023-02-20T11:07:31.479Z"
   },
   {
    "duration": 1166,
    "start_time": "2023-02-20T11:07:55.428Z"
   },
   {
    "duration": 12,
    "start_time": "2023-02-20T11:10:00.462Z"
   },
   {
    "duration": 11,
    "start_time": "2023-02-20T11:10:38.622Z"
   },
   {
    "duration": 10,
    "start_time": "2023-02-20T11:14:36.270Z"
   },
   {
    "duration": 3,
    "start_time": "2023-02-20T11:14:47.779Z"
   },
   {
    "duration": 532,
    "start_time": "2023-02-20T11:14:56.067Z"
   },
   {
    "duration": 646,
    "start_time": "2023-02-20T11:15:07.550Z"
   },
   {
    "duration": 414,
    "start_time": "2023-02-20T11:15:12.568Z"
   },
   {
    "duration": 1117,
    "start_time": "2023-02-20T11:15:19.319Z"
   },
   {
    "duration": 70,
    "start_time": "2023-02-20T11:15:20.438Z"
   },
   {
    "duration": 111,
    "start_time": "2023-02-20T11:15:20.510Z"
   },
   {
    "duration": 0,
    "start_time": "2023-02-20T11:15:20.623Z"
   },
   {
    "duration": 0,
    "start_time": "2023-02-20T11:15:20.624Z"
   },
   {
    "duration": 0,
    "start_time": "2023-02-20T11:15:20.626Z"
   },
   {
    "duration": 0,
    "start_time": "2023-02-20T11:15:20.627Z"
   },
   {
    "duration": 0,
    "start_time": "2023-02-20T11:15:20.628Z"
   },
   {
    "duration": 0,
    "start_time": "2023-02-20T11:15:20.630Z"
   },
   {
    "duration": 0,
    "start_time": "2023-02-20T11:15:20.631Z"
   },
   {
    "duration": 0,
    "start_time": "2023-02-20T11:15:20.633Z"
   },
   {
    "duration": 0,
    "start_time": "2023-02-20T11:15:20.634Z"
   },
   {
    "duration": 0,
    "start_time": "2023-02-20T11:15:20.635Z"
   },
   {
    "duration": 1089,
    "start_time": "2023-02-20T11:15:37.867Z"
   },
   {
    "duration": 72,
    "start_time": "2023-02-20T11:15:38.957Z"
   },
   {
    "duration": 6,
    "start_time": "2023-02-20T11:15:39.031Z"
   },
   {
    "duration": 34,
    "start_time": "2023-02-20T11:15:39.039Z"
   },
   {
    "duration": 66,
    "start_time": "2023-02-20T11:15:39.076Z"
   },
   {
    "duration": 8,
    "start_time": "2023-02-20T11:15:39.143Z"
   },
   {
    "duration": 7,
    "start_time": "2023-02-20T11:15:39.153Z"
   },
   {
    "duration": 62,
    "start_time": "2023-02-20T11:15:39.162Z"
   },
   {
    "duration": 116,
    "start_time": "2023-02-20T11:15:39.226Z"
   },
   {
    "duration": 221,
    "start_time": "2023-02-20T11:15:39.344Z"
   },
   {
    "duration": 112,
    "start_time": "2023-02-20T11:15:39.622Z"
   },
   {
    "duration": 296,
    "start_time": "2023-02-20T11:15:39.736Z"
   },
   {
    "duration": 451,
    "start_time": "2023-02-20T11:15:40.122Z"
   },
   {
    "duration": 510,
    "start_time": "2023-02-20T11:15:54.186Z"
   },
   {
    "duration": 56,
    "start_time": "2023-02-20T11:16:50.283Z"
   },
   {
    "duration": 20,
    "start_time": "2023-02-20T11:16:58.521Z"
   },
   {
    "duration": 1145,
    "start_time": "2023-02-20T11:17:08.267Z"
   },
   {
    "duration": 71,
    "start_time": "2023-02-20T11:17:09.414Z"
   },
   {
    "duration": 6,
    "start_time": "2023-02-20T11:17:09.486Z"
   },
   {
    "duration": 18,
    "start_time": "2023-02-20T11:17:09.493Z"
   },
   {
    "duration": 53,
    "start_time": "2023-02-20T11:17:09.513Z"
   },
   {
    "duration": 6,
    "start_time": "2023-02-20T11:17:09.567Z"
   },
   {
    "duration": 5,
    "start_time": "2023-02-20T11:17:09.575Z"
   },
   {
    "duration": 47,
    "start_time": "2023-02-20T11:17:09.581Z"
   },
   {
    "duration": 204,
    "start_time": "2023-02-20T11:17:09.630Z"
   },
   {
    "duration": 200,
    "start_time": "2023-02-20T11:17:09.836Z"
   },
   {
    "duration": 106,
    "start_time": "2023-02-20T11:17:10.122Z"
   },
   {
    "duration": 391,
    "start_time": "2023-02-20T11:17:10.230Z"
   },
   {
    "duration": 18,
    "start_time": "2023-02-20T11:17:10.623Z"
   },
   {
    "duration": 21,
    "start_time": "2023-02-20T11:17:47.305Z"
   },
   {
    "duration": 100,
    "start_time": "2023-02-20T11:21:43.748Z"
   },
   {
    "duration": 1815,
    "start_time": "2023-02-20T11:21:52.179Z"
   },
   {
    "duration": 5583,
    "start_time": "2023-02-20T11:22:49.761Z"
   },
   {
    "duration": 5768,
    "start_time": "2023-02-20T11:23:00.175Z"
   },
   {
    "duration": 6008,
    "start_time": "2023-02-20T11:23:47.120Z"
   },
   {
    "duration": 8952,
    "start_time": "2023-02-20T11:24:28.250Z"
   },
   {
    "duration": 8628,
    "start_time": "2023-02-20T11:25:25.582Z"
   },
   {
    "duration": 9144,
    "start_time": "2023-02-20T11:26:08.794Z"
   },
   {
    "duration": 916,
    "start_time": "2023-02-20T11:28:29.688Z"
   },
   {
    "duration": 459,
    "start_time": "2023-02-20T11:30:35.665Z"
   },
   {
    "duration": 182,
    "start_time": "2023-02-20T11:30:44.827Z"
   },
   {
    "duration": 500,
    "start_time": "2023-02-20T11:30:50.864Z"
   },
   {
    "duration": 378,
    "start_time": "2023-02-20T11:31:00.768Z"
   },
   {
    "duration": 9284,
    "start_time": "2023-02-20T11:32:04.634Z"
   },
   {
    "duration": 9532,
    "start_time": "2023-02-20T11:32:20.427Z"
   },
   {
    "duration": 8227,
    "start_time": "2023-02-20T11:32:38.299Z"
   },
   {
    "duration": 7442,
    "start_time": "2023-02-20T11:32:58.914Z"
   },
   {
    "duration": 269,
    "start_time": "2023-02-20T11:33:18.225Z"
   },
   {
    "duration": 1136,
    "start_time": "2023-02-20T11:47:20.879Z"
   },
   {
    "duration": 84,
    "start_time": "2023-02-20T11:47:22.019Z"
   },
   {
    "duration": 15,
    "start_time": "2023-02-20T11:47:22.105Z"
   },
   {
    "duration": 26,
    "start_time": "2023-02-20T11:47:22.122Z"
   },
   {
    "duration": 69,
    "start_time": "2023-02-20T11:47:22.151Z"
   },
   {
    "duration": 123,
    "start_time": "2023-02-20T11:47:22.222Z"
   },
   {
    "duration": 0,
    "start_time": "2023-02-20T11:47:22.347Z"
   },
   {
    "duration": 0,
    "start_time": "2023-02-20T11:47:22.350Z"
   },
   {
    "duration": 0,
    "start_time": "2023-02-20T11:47:22.351Z"
   },
   {
    "duration": 0,
    "start_time": "2023-02-20T11:47:22.352Z"
   },
   {
    "duration": 0,
    "start_time": "2023-02-20T11:47:22.353Z"
   },
   {
    "duration": 0,
    "start_time": "2023-02-20T11:47:22.354Z"
   },
   {
    "duration": 0,
    "start_time": "2023-02-20T11:47:22.357Z"
   },
   {
    "duration": 0,
    "start_time": "2023-02-20T11:47:22.358Z"
   },
   {
    "duration": 0,
    "start_time": "2023-02-20T11:47:22.360Z"
   },
   {
    "duration": 18,
    "start_time": "2023-02-20T11:47:33.812Z"
   },
   {
    "duration": 9,
    "start_time": "2023-02-20T11:48:49.117Z"
   },
   {
    "duration": 1188,
    "start_time": "2023-02-20T11:48:54.352Z"
   },
   {
    "duration": 72,
    "start_time": "2023-02-20T11:48:55.542Z"
   },
   {
    "duration": 5,
    "start_time": "2023-02-20T11:48:55.616Z"
   },
   {
    "duration": 26,
    "start_time": "2023-02-20T11:48:55.624Z"
   },
   {
    "duration": 70,
    "start_time": "2023-02-20T11:48:55.652Z"
   },
   {
    "duration": 15,
    "start_time": "2023-02-20T11:48:55.725Z"
   },
   {
    "duration": 7,
    "start_time": "2023-02-20T11:48:55.742Z"
   },
   {
    "duration": 85,
    "start_time": "2023-02-20T11:48:55.751Z"
   },
   {
    "duration": 205,
    "start_time": "2023-02-20T11:48:55.839Z"
   },
   {
    "duration": 190,
    "start_time": "2023-02-20T11:48:56.047Z"
   },
   {
    "duration": 186,
    "start_time": "2023-02-20T11:48:56.240Z"
   },
   {
    "duration": 296,
    "start_time": "2023-02-20T11:48:56.430Z"
   },
   {
    "duration": 7106,
    "start_time": "2023-02-20T11:48:56.729Z"
   },
   {
    "duration": 884,
    "start_time": "2023-02-20T11:49:03.838Z"
   },
   {
    "duration": 253,
    "start_time": "2023-02-20T11:49:04.727Z"
   },
   {
    "duration": 175,
    "start_time": "2023-02-20T11:51:34.721Z"
   },
   {
    "duration": 38,
    "start_time": "2023-02-20T11:51:42.889Z"
   },
   {
    "duration": 6700,
    "start_time": "2023-02-20T11:53:37.762Z"
   },
   {
    "duration": 59,
    "start_time": "2023-02-20T11:54:49.163Z"
   },
   {
    "duration": 47,
    "start_time": "2023-02-20T11:54:54.875Z"
   },
   {
    "duration": 39,
    "start_time": "2023-02-20T11:55:00.254Z"
   },
   {
    "duration": 58,
    "start_time": "2023-02-20T11:55:05.687Z"
   },
   {
    "duration": 56,
    "start_time": "2023-02-20T11:55:11.103Z"
   },
   {
    "duration": 74,
    "start_time": "2023-02-20T11:55:17.059Z"
   },
   {
    "duration": 53,
    "start_time": "2023-02-20T11:55:22.169Z"
   },
   {
    "duration": 42,
    "start_time": "2023-02-20T11:55:57.726Z"
   },
   {
    "duration": 208,
    "start_time": "2023-02-20T11:56:03.414Z"
   },
   {
    "duration": 50,
    "start_time": "2023-02-20T11:56:07.583Z"
   },
   {
    "duration": 34,
    "start_time": "2023-02-20T11:56:11.490Z"
   },
   {
    "duration": 49,
    "start_time": "2023-02-20T11:56:16.875Z"
   },
   {
    "duration": 36,
    "start_time": "2023-02-20T11:56:20.637Z"
   },
   {
    "duration": 51,
    "start_time": "2023-02-20T11:56:25.074Z"
   },
   {
    "duration": 116,
    "start_time": "2023-02-20T11:56:30.510Z"
   },
   {
    "duration": 36,
    "start_time": "2023-02-20T11:56:34.530Z"
   },
   {
    "duration": 25,
    "start_time": "2023-02-20T11:56:39.604Z"
   },
   {
    "duration": 473,
    "start_time": "2023-02-20T11:57:26.869Z"
   },
   {
    "duration": 427,
    "start_time": "2023-02-20T11:57:35.175Z"
   },
   {
    "duration": 463,
    "start_time": "2023-02-20T11:57:40.691Z"
   },
   {
    "duration": 365,
    "start_time": "2023-02-20T11:57:46.253Z"
   },
   {
    "duration": 450,
    "start_time": "2023-02-20T11:57:50.566Z"
   },
   {
    "duration": 816,
    "start_time": "2023-02-20T11:58:14.079Z"
   },
   {
    "duration": 382,
    "start_time": "2023-02-20T11:58:20.140Z"
   },
   {
    "duration": 508,
    "start_time": "2023-02-20T11:58:24.428Z"
   },
   {
    "duration": 887,
    "start_time": "2023-02-20T11:58:34.902Z"
   },
   {
    "duration": 929,
    "start_time": "2023-02-20T11:58:42.807Z"
   },
   {
    "duration": 798,
    "start_time": "2023-02-20T11:58:47.663Z"
   },
   {
    "duration": 898,
    "start_time": "2023-02-20T11:58:53.160Z"
   },
   {
    "duration": 839,
    "start_time": "2023-02-20T11:58:58.508Z"
   },
   {
    "duration": 883,
    "start_time": "2023-02-20T11:59:03.642Z"
   },
   {
    "duration": 589,
    "start_time": "2023-02-20T11:59:49.457Z"
   },
   {
    "duration": 416,
    "start_time": "2023-02-20T13:46:02.760Z"
   },
   {
    "duration": 186,
    "start_time": "2023-02-20T14:05:04.794Z"
   },
   {
    "duration": 1064,
    "start_time": "2023-02-20T14:06:57.246Z"
   },
   {
    "duration": 70,
    "start_time": "2023-02-20T14:06:58.312Z"
   },
   {
    "duration": 6,
    "start_time": "2023-02-20T14:06:58.386Z"
   },
   {
    "duration": 19,
    "start_time": "2023-02-20T14:06:58.393Z"
   },
   {
    "duration": 45,
    "start_time": "2023-02-20T14:06:58.414Z"
   },
   {
    "duration": 9,
    "start_time": "2023-02-20T14:06:58.460Z"
   },
   {
    "duration": 4,
    "start_time": "2023-02-20T14:06:58.471Z"
   },
   {
    "duration": 53,
    "start_time": "2023-02-20T14:06:58.477Z"
   },
   {
    "duration": 101,
    "start_time": "2023-02-20T14:06:58.623Z"
   },
   {
    "duration": 123,
    "start_time": "2023-02-20T14:06:58.726Z"
   },
   {
    "duration": 6219,
    "start_time": "2023-02-20T14:06:58.850Z"
   },
   {
    "duration": 734,
    "start_time": "2023-02-20T14:07:05.072Z"
   },
   {
    "duration": 165,
    "start_time": "2023-02-20T14:07:05.807Z"
   },
   {
    "duration": 54,
    "start_time": "2023-02-20T14:07:05.974Z"
   },
   {
    "duration": 648,
    "start_time": "2023-02-20T14:07:06.029Z"
   },
   {
    "duration": 165,
    "start_time": "2023-02-20T14:07:06.680Z"
   },
   {
    "duration": 243,
    "start_time": "2023-02-20T14:07:48.123Z"
   },
   {
    "duration": 1197,
    "start_time": "2023-02-20T14:09:21.812Z"
   },
   {
    "duration": 77,
    "start_time": "2023-02-20T14:09:23.011Z"
   },
   {
    "duration": 7,
    "start_time": "2023-02-20T14:09:23.090Z"
   },
   {
    "duration": 24,
    "start_time": "2023-02-20T14:09:23.099Z"
   },
   {
    "duration": 46,
    "start_time": "2023-02-20T14:09:23.126Z"
   },
   {
    "duration": 10,
    "start_time": "2023-02-20T14:09:23.174Z"
   },
   {
    "duration": 9,
    "start_time": "2023-02-20T14:09:23.186Z"
   },
   {
    "duration": 129,
    "start_time": "2023-02-20T14:09:23.197Z"
   },
   {
    "duration": 113,
    "start_time": "2023-02-20T14:09:23.329Z"
   },
   {
    "duration": 198,
    "start_time": "2023-02-20T14:09:23.444Z"
   },
   {
    "duration": 7029,
    "start_time": "2023-02-20T14:09:23.644Z"
   },
   {
    "duration": 854,
    "start_time": "2023-02-20T14:09:30.675Z"
   },
   {
    "duration": 184,
    "start_time": "2023-02-20T14:09:31.531Z"
   },
   {
    "duration": 104,
    "start_time": "2023-02-20T14:09:31.720Z"
   },
   {
    "duration": 395,
    "start_time": "2023-02-20T14:09:31.826Z"
   },
   {
    "duration": 193,
    "start_time": "2023-02-20T14:09:32.223Z"
   },
   {
    "duration": 1183,
    "start_time": "2023-02-21T11:22:34.377Z"
   },
   {
    "duration": 123,
    "start_time": "2023-02-21T11:22:35.561Z"
   },
   {
    "duration": 5,
    "start_time": "2023-02-21T11:22:35.686Z"
   },
   {
    "duration": 39,
    "start_time": "2023-02-21T11:22:35.693Z"
   },
   {
    "duration": 129,
    "start_time": "2023-02-21T11:22:35.734Z"
   },
   {
    "duration": 82,
    "start_time": "2023-02-21T11:22:35.865Z"
   },
   {
    "duration": 5,
    "start_time": "2023-02-21T11:22:35.948Z"
   },
   {
    "duration": 62,
    "start_time": "2023-02-21T11:22:35.954Z"
   },
   {
    "duration": 180,
    "start_time": "2023-02-21T11:22:36.018Z"
   },
   {
    "duration": 125,
    "start_time": "2023-02-21T11:22:36.201Z"
   },
   {
    "duration": 6381,
    "start_time": "2023-02-21T11:22:36.328Z"
   },
   {
    "duration": 719,
    "start_time": "2023-02-21T11:22:42.710Z"
   },
   {
    "duration": 185,
    "start_time": "2023-02-21T11:22:43.430Z"
   },
   {
    "duration": 99,
    "start_time": "2023-02-21T11:22:43.617Z"
   },
   {
    "duration": 369,
    "start_time": "2023-02-21T11:22:43.718Z"
   },
   {
    "duration": 196,
    "start_time": "2023-02-21T11:22:44.089Z"
   },
   {
    "duration": 255,
    "start_time": "2023-02-21T11:31:37.815Z"
   },
   {
    "duration": 239,
    "start_time": "2023-02-21T11:32:59.960Z"
   },
   {
    "duration": 1229,
    "start_time": "2023-02-21T11:33:16.842Z"
   },
   {
    "duration": 75,
    "start_time": "2023-02-21T11:33:18.073Z"
   },
   {
    "duration": 7,
    "start_time": "2023-02-21T11:33:18.150Z"
   },
   {
    "duration": 24,
    "start_time": "2023-02-21T11:33:18.159Z"
   },
   {
    "duration": 18,
    "start_time": "2023-02-21T11:33:18.198Z"
   },
   {
    "duration": 103,
    "start_time": "2023-02-21T11:33:18.219Z"
   },
   {
    "duration": 6,
    "start_time": "2023-02-21T11:33:18.324Z"
   },
   {
    "duration": 70,
    "start_time": "2023-02-21T11:33:18.332Z"
   },
   {
    "duration": 123,
    "start_time": "2023-02-21T11:33:18.404Z"
   },
   {
    "duration": 195,
    "start_time": "2023-02-21T11:33:18.530Z"
   },
   {
    "duration": 6416,
    "start_time": "2023-02-21T11:33:18.727Z"
   },
   {
    "duration": 730,
    "start_time": "2023-02-21T11:33:25.145Z"
   },
   {
    "duration": 178,
    "start_time": "2023-02-21T11:33:25.877Z"
   },
   {
    "duration": 60,
    "start_time": "2023-02-21T11:33:26.057Z"
   },
   {
    "duration": 352,
    "start_time": "2023-02-21T11:33:26.118Z"
   },
   {
    "duration": 241,
    "start_time": "2023-02-21T11:33:26.472Z"
   },
   {
    "duration": 1173,
    "start_time": "2023-02-21T11:34:18.676Z"
   },
   {
    "duration": 68,
    "start_time": "2023-02-21T11:34:19.851Z"
   },
   {
    "duration": 5,
    "start_time": "2023-02-21T11:34:19.921Z"
   },
   {
    "duration": 19,
    "start_time": "2023-02-21T11:34:19.927Z"
   },
   {
    "duration": 11,
    "start_time": "2023-02-21T11:34:19.948Z"
   },
   {
    "duration": 99,
    "start_time": "2023-02-21T11:34:19.961Z"
   },
   {
    "duration": 5,
    "start_time": "2023-02-21T11:34:20.062Z"
   },
   {
    "duration": 43,
    "start_time": "2023-02-21T11:34:20.068Z"
   },
   {
    "duration": 190,
    "start_time": "2023-02-21T11:34:20.113Z"
   },
   {
    "duration": 137,
    "start_time": "2023-02-21T11:34:20.306Z"
   },
   {
    "duration": 6428,
    "start_time": "2023-02-21T11:34:20.444Z"
   },
   {
    "duration": 761,
    "start_time": "2023-02-21T11:34:26.874Z"
   },
   {
    "duration": 176,
    "start_time": "2023-02-21T11:34:27.637Z"
   },
   {
    "duration": 88,
    "start_time": "2023-02-21T11:34:27.815Z"
   },
   {
    "duration": 337,
    "start_time": "2023-02-21T11:34:27.909Z"
   },
   {
    "duration": 256,
    "start_time": "2023-02-21T11:34:28.250Z"
   },
   {
    "duration": 1189,
    "start_time": "2023-05-11T12:21:39.630Z"
   },
   {
    "duration": 113,
    "start_time": "2023-05-11T12:21:40.821Z"
   },
   {
    "duration": 6,
    "start_time": "2023-05-11T12:21:40.937Z"
   },
   {
    "duration": 32,
    "start_time": "2023-05-11T12:21:40.945Z"
   },
   {
    "duration": 23,
    "start_time": "2023-05-11T12:21:40.979Z"
   },
   {
    "duration": 123,
    "start_time": "2023-05-11T12:21:41.005Z"
   },
   {
    "duration": 6,
    "start_time": "2023-05-11T12:21:41.130Z"
   },
   {
    "duration": 78,
    "start_time": "2023-05-11T12:21:41.138Z"
   },
   {
    "duration": 187,
    "start_time": "2023-05-11T12:21:41.218Z"
   },
   {
    "duration": 150,
    "start_time": "2023-05-11T12:21:41.492Z"
   },
   {
    "duration": 7096,
    "start_time": "2023-05-11T12:21:41.644Z"
   },
   {
    "duration": 782,
    "start_time": "2023-05-11T12:21:48.743Z"
   },
   {
    "duration": 176,
    "start_time": "2023-05-11T12:21:49.527Z"
   },
   {
    "duration": 93,
    "start_time": "2023-05-11T12:21:49.705Z"
   },
   {
    "duration": 360,
    "start_time": "2023-05-11T12:21:49.799Z"
   },
   {
    "duration": 183,
    "start_time": "2023-05-11T12:21:50.161Z"
   },
   {
    "duration": 1385,
    "start_time": "2023-05-12T14:31:16.447Z"
   },
   {
    "duration": 203,
    "start_time": "2023-05-12T14:31:17.834Z"
   },
   {
    "duration": 6,
    "start_time": "2023-05-12T14:31:18.039Z"
   },
   {
    "duration": 49,
    "start_time": "2023-05-12T14:31:18.046Z"
   },
   {
    "duration": 43,
    "start_time": "2023-05-12T14:31:18.098Z"
   },
   {
    "duration": 109,
    "start_time": "2023-05-12T14:31:18.143Z"
   },
   {
    "duration": 18,
    "start_time": "2023-05-12T14:31:18.254Z"
   },
   {
    "duration": 200,
    "start_time": "2023-05-12T14:31:18.274Z"
   },
   {
    "duration": 97,
    "start_time": "2023-05-12T14:31:18.476Z"
   },
   {
    "duration": 136,
    "start_time": "2023-05-12T14:31:18.576Z"
   },
   {
    "duration": 7273,
    "start_time": "2023-05-12T14:31:18.714Z"
   },
   {
    "duration": 924,
    "start_time": "2023-05-12T14:31:25.989Z"
   },
   {
    "duration": 211,
    "start_time": "2023-05-12T14:31:26.915Z"
   },
   {
    "duration": 157,
    "start_time": "2023-05-12T14:31:27.128Z"
   },
   {
    "duration": 410,
    "start_time": "2023-05-12T14:31:27.287Z"
   },
   {
    "duration": 265,
    "start_time": "2023-05-12T14:31:27.700Z"
   },
   {
    "duration": 171,
    "start_time": "2023-05-12T14:31:43.814Z"
   },
   {
    "duration": 131,
    "start_time": "2023-05-12T14:31:58.034Z"
   },
   {
    "duration": 130,
    "start_time": "2023-05-12T14:32:05.698Z"
   },
   {
    "duration": 131,
    "start_time": "2023-05-12T14:32:11.307Z"
   },
   {
    "duration": 126,
    "start_time": "2023-05-12T14:32:16.645Z"
   },
   {
    "duration": 1182,
    "start_time": "2023-05-12T14:32:53.600Z"
   },
   {
    "duration": 74,
    "start_time": "2023-05-12T14:32:54.785Z"
   },
   {
    "duration": 7,
    "start_time": "2023-05-12T14:32:54.861Z"
   },
   {
    "duration": 30,
    "start_time": "2023-05-12T14:32:54.870Z"
   },
   {
    "duration": 27,
    "start_time": "2023-05-12T14:32:54.903Z"
   },
   {
    "duration": 100,
    "start_time": "2023-05-12T14:32:54.932Z"
   },
   {
    "duration": 5,
    "start_time": "2023-05-12T14:32:55.033Z"
   },
   {
    "duration": 48,
    "start_time": "2023-05-12T14:32:55.040Z"
   },
   {
    "duration": 188,
    "start_time": "2023-05-12T14:32:55.090Z"
   },
   {
    "duration": 133,
    "start_time": "2023-05-12T14:32:55.280Z"
   },
   {
    "duration": 7150,
    "start_time": "2023-05-12T14:32:55.414Z"
   },
   {
    "duration": 836,
    "start_time": "2023-05-12T14:33:02.566Z"
   },
   {
    "duration": 201,
    "start_time": "2023-05-12T14:33:03.404Z"
   },
   {
    "duration": 69,
    "start_time": "2023-05-12T14:33:03.608Z"
   },
   {
    "duration": 376,
    "start_time": "2023-05-12T14:33:03.679Z"
   },
   {
    "duration": 136,
    "start_time": "2023-05-12T14:33:04.057Z"
   }
  ],
  "kernelspec": {
   "display_name": "Python 3 (ipykernel)",
   "language": "python",
   "name": "python3"
  },
  "language_info": {
   "codemirror_mode": {
    "name": "ipython",
    "version": 3
   },
   "file_extension": ".py",
   "mimetype": "text/x-python",
   "name": "python",
   "nbconvert_exporter": "python",
   "pygments_lexer": "ipython3",
   "version": "3.9.5"
  },
  "toc": {
   "base_numbering": 1,
   "nav_menu": {},
   "number_sections": true,
   "sideBar": true,
   "skip_h1_title": true,
   "title_cell": "Содержание",
   "title_sidebar": "Contents",
   "toc_cell": true,
   "toc_position": {
    "height": "calc(100% - 180px)",
    "left": "10px",
    "top": "150px",
    "width": "165px"
   },
   "toc_section_display": true,
   "toc_window_display": true
  }
 },
 "nbformat": 4,
 "nbformat_minor": 2
}
